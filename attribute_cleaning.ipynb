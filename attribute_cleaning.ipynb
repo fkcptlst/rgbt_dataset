{
 "cells": [
  {
   "cell_type": "code",
   "execution_count": 7,
   "outputs": [],
   "source": [
    "import re"
   ],
   "metadata": {
    "collapsed": false
   }
  },
  {
   "cell_type": "code",
   "execution_count": 8,
   "outputs": [],
   "source": [
    "test_str = '<box frame=\"1\" xtl=\"154\" ytl=\"298\" xbr=\"168\" ybr=\"326\" outside=\"0\" occluded=\"0\"><attribute id=\"1345\">not_keep_out</attribute><attribute id=\"1347\">not_shake</attribute><attribute id=\"1348\">street</attribute><attribute id=\"1341\">30m</attribute><attribute id=\"1343\">bright_light</attribute></box>'"
   ],
   "metadata": {
    "collapsed": false
   }
  },
  {
   "cell_type": "code",
   "execution_count": 9,
   "outputs": [],
   "source": [
    "altitude_pattern = r'\"(?P<period>[0-9]+)\">[0-9]+m'"
   ],
   "metadata": {
    "collapsed": false
   }
  },
  {
   "cell_type": "code",
   "execution_count": 10,
   "outputs": [],
   "source": [
    "altitude_pattern_re = re.compile(altitude_pattern)"
   ],
   "metadata": {
    "collapsed": false
   }
  },
  {
   "cell_type": "code",
   "execution_count": null,
   "outputs": [],
   "source": [],
   "metadata": {
    "collapsed": false
   }
  }
 ],
 "metadata": {
  "kernelspec": {
   "display_name": "Python 3",
   "language": "python",
   "name": "python3"
  },
  "language_info": {
   "codemirror_mode": {
    "name": "ipython",
    "version": 2
   },
   "file_extension": ".py",
   "mimetype": "text/x-python",
   "name": "python",
   "nbconvert_exporter": "python",
   "pygments_lexer": "ipython2",
   "version": "2.7.6"
  }
 },
 "nbformat": 4,
 "nbformat_minor": 0
}
