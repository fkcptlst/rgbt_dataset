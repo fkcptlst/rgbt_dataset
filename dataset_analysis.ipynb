{
 "cells": [
  {
   "cell_type": "code",
   "execution_count": 1,
   "metadata": {
    "collapsed": true
   },
   "outputs": [],
   "source": [
    "from dataset_analysis import *\n",
    "from XMLAnnotParser import parse_single_annotation_file"
   ]
  },
  {
   "cell_type": "markdown",
   "source": [
    "## Test"
   ],
   "metadata": {
    "collapsed": false
   }
  },
  {
   "cell_type": "code",
   "execution_count": 2,
   "outputs": [],
   "source": [
    "annotations_top_dir = './annotation'\n",
    "# dataset_dict_list = get_all_dicts(annotations_top_dir)"
   ],
   "metadata": {
    "collapsed": false
   }
  },
  {
   "cell_type": "code",
   "execution_count": 3,
   "outputs": [],
   "source": [
    "annotation_path = './annotation/h30_5_10/DJI_0002.xml'"
   ],
   "metadata": {
    "collapsed": false
   }
  },
  {
   "cell_type": "code",
   "execution_count": 4,
   "outputs": [],
   "source": [
    "xml_dict = parse_single_annotation_file(xml_path=annotation_path)"
   ],
   "metadata": {
    "collapsed": false
   }
  },
  {
   "cell_type": "code",
   "execution_count": 5,
   "outputs": [
    {
     "data": {
      "text/plain": "'19'"
     },
     "execution_count": 5,
     "metadata": {},
     "output_type": "execute_result"
    }
   ],
   "source": [
    "count_tracks(xml_dict)"
   ],
   "metadata": {
    "collapsed": false
   }
  },
  {
   "cell_type": "code",
   "execution_count": 6,
   "outputs": [
    {
     "data": {
      "text/plain": "{'person': 19}"
     },
     "execution_count": 6,
     "metadata": {},
     "output_type": "execute_result"
    }
   ],
   "source": [
    "count_categories(xml_dict)"
   ],
   "metadata": {
    "collapsed": false
   }
  },
  {
   "cell_type": "code",
   "execution_count": 7,
   "outputs": [
    {
     "data": {
      "text/plain": "{'65': 12001, '67': 12001, '69': 7458, '71': 12001, '73': 12001, '68': 4543}"
     },
     "execution_count": 7,
     "metadata": {},
     "output_type": "execute_result"
    }
   ],
   "source": [
    "count_attribute_occurrence(xml_dict)"
   ],
   "metadata": {
    "collapsed": false
   }
  },
  {
   "cell_type": "code",
   "execution_count": 8,
   "outputs": [
    {
     "data": {
      "text/plain": "{'0': 947,\n '1': 947,\n '2': 947,\n '3': 947,\n '4': 947,\n '5': 947,\n '6': 947,\n '7': 947,\n '8': 947,\n '9': 947,\n '10': 947,\n '11': 947,\n '12': 947,\n '13': 947,\n '14': 947,\n '15': 947,\n '16': 947,\n '17': 947,\n '18': 947}"
     },
     "execution_count": 8,
     "metadata": {},
     "output_type": "execute_result"
    }
   ],
   "source": [
    "count_frames_per_track(xml_dict)"
   ],
   "metadata": {
    "collapsed": false
   }
  },
  {
   "cell_type": "code",
   "execution_count": 9,
   "outputs": [
    {
     "data": {
      "text/plain": "{'65': 11364947,\n '67': 11364947,\n '69': 7062726,\n '71': 11364947,\n '73': 11364947,\n '68': 4302221}"
     },
     "execution_count": 9,
     "metadata": {},
     "output_type": "execute_result"
    }
   ],
   "source": [
    "count_attribute_occurrence_frame_level(xml_dict)"
   ],
   "metadata": {
    "collapsed": false
   }
  },
  {
   "cell_type": "code",
   "execution_count": null,
   "outputs": [],
   "source": [],
   "metadata": {
    "collapsed": false
   }
  },
  {
   "cell_type": "markdown",
   "source": [
    "## Category distribution"
   ],
   "metadata": {
    "collapsed": false
   }
  },
  {
   "cell_type": "code",
   "execution_count": null,
   "outputs": [],
   "source": [
    "annotations_top_dir = './annotation'\n",
    "total_category_distribution_dict = {}\n",
    "total_num_of_categories = 0"
   ],
   "metadata": {
    "collapsed": false
   }
  },
  {
   "cell_type": "code",
   "execution_count": null,
   "outputs": [],
   "source": [
    "for annotations_path in os.listdir(annotations_top_dir):\n",
    "    annotations_path = os.path.join(annotations_top_dir, annotations_path)\n",
    "    for annotation_filename in os.listdir(annotations_path):\n",
    "        if not annotation_filename.endswith(\".xml\"):\n",
    "            continue\n",
    "        # parse annotation file\n",
    "        xml_path = os.path.join(annotations_path, annotation_filename)\n",
    "        xml_dict = parse_single_annotation_file(xml_path)\n",
    "\n",
    "        total_num_of_categories += count_categories(xml_dict)\n",
    "        category_count_dict = count_categories(xml_dict)\n"
   ],
   "metadata": {
    "collapsed": false
   }
  }
 ],
 "metadata": {
  "kernelspec": {
   "display_name": "Python 3",
   "language": "python",
   "name": "python3"
  },
  "language_info": {
   "codemirror_mode": {
    "name": "ipython",
    "version": 2
   },
   "file_extension": ".py",
   "mimetype": "text/x-python",
   "name": "python",
   "nbconvert_exporter": "python",
   "pygments_lexer": "ipython2",
   "version": "2.7.6"
  }
 },
 "nbformat": 4,
 "nbformat_minor": 0
}
